{
 "cells": [
  {
   "cell_type": "code",
   "execution_count": 6,
   "metadata": {},
   "outputs": [],
   "source": [
    "a = '#2019수시이월 #2019수시이월인원 #2019수시이월인원발표 #2019수시 #2019정시 #2019대입 #2019정시최종인원 #2019정시모집인원 #2019수시이월최종인원 #2019수시등록마감일 #2019수시이월인원발표예정일 '\n"
   ]
  },
  {
   "cell_type": "code",
   "execution_count": 7,
   "metadata": {},
   "outputs": [
    {
     "data": {
      "text/plain": [
       "['2019수시이월 ',\n",
       " '2019수시이월인원 ',\n",
       " '2019수시이월인원발표 ',\n",
       " '2019수시 ',\n",
       " '2019정시 ',\n",
       " '2019대입 ',\n",
       " '2019정시최종인원 ',\n",
       " '2019정시모집인원 ',\n",
       " '2019수시이월최종인원 ',\n",
       " '2019수시등록마감일 ',\n",
       " '2019수시이월인원발표예정일 ']"
      ]
     },
     "execution_count": 7,
     "metadata": {},
     "output_type": "execute_result"
    }
   ],
   "source": [
    "b = a.split('#')\n",
    "for i in b:\n",
    "    if len(i)==0:\n",
    "        b.remove(i)\n",
    "    else:\n",
    "        pass\n",
    "b"
   ]
  },
  {
   "cell_type": "code",
   "execution_count": 5,
   "metadata": {},
   "outputs": [],
   "source": [
    "import os\n",
    "import fnmatch\n",
    "import unicodedata\n",
    "PATH = '/Users/julimpark/Documents/KOREA/파이썬 연습/code_ARCHIVE/iffhompage/content/quote'\n",
    "filename = []\n",
    "for root, directories, files in os.walk(PATH):\n",
    "    for file in files:\n",
    "        if fnmatch.fnmatch(file,'*full_*'):                \n",
    "                filename.append(os.path.join(root,file))\n",
    "for i in filename:\n",
    "    os.remove(i)"
   ]
  }
 ],
 "metadata": {
  "kernelspec": {
   "display_name": "Python 3",
   "language": "python",
   "name": "python3"
  },
  "language_info": {
   "codemirror_mode": {
    "name": "ipython",
    "version": 3
   },
   "file_extension": ".py",
   "mimetype": "text/x-python",
   "name": "python",
   "nbconvert_exporter": "python",
   "pygments_lexer": "ipython3",
   "version": "3.11.2"
  }
 },
 "nbformat": 4,
 "nbformat_minor": 2
}
