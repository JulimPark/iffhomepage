{
 "cells": [
  {
   "cell_type": "code",
   "execution_count": 1,
   "metadata": {},
   "outputs": [],
   "source": [
    "a = '#고등학교수학잘하는법 #고등학교수학1등급만들기 #수학잘하는법 #수학1등급만들기 #수학1등급만드는법 #수학1등급 #고등학교수학1등급 #고등학교수학최상위권 #고등학교수학상위권 #수학성적올리는법 #수학성적1등급 #수학공부방법 #수학학원추천 #상위권수학 #최상위권수학 #고등부수학전문 #구미수학학원 #필요와충분수학'\n"
   ]
  },
  {
   "cell_type": "code",
   "execution_count": 4,
   "metadata": {},
   "outputs": [
    {
     "data": {
      "text/plain": [
       "['고등학교수학잘하는법 ',\n",
       " '고등학교수학1등급만들기 ',\n",
       " '수학잘하는법 ',\n",
       " '수학1등급만들기 ',\n",
       " '수학1등급만드는법 ',\n",
       " '수학1등급 ',\n",
       " '고등학교수학1등급 ',\n",
       " '고등학교수학최상위권 ',\n",
       " '고등학교수학상위권 ',\n",
       " '수학성적올리는법 ',\n",
       " '수학성적1등급 ',\n",
       " '수학공부방법 ',\n",
       " '수학학원추천 ',\n",
       " '상위권수학 ',\n",
       " '최상위권수학 ',\n",
       " '고등부수학전문 ',\n",
       " '구미수학학원 ',\n",
       " '필요와충분수학']"
      ]
     },
     "execution_count": 4,
     "metadata": {},
     "output_type": "execute_result"
    }
   ],
   "source": [
    "b = a.split('#')\n",
    "for i in b:\n",
    "    if len(i)==0:\n",
    "        b.remove(i)\n",
    "    else:\n",
    "        pass\n",
    "b"
   ]
  }
 ],
 "metadata": {
  "kernelspec": {
   "display_name": "Python 3",
   "language": "python",
   "name": "python3"
  },
  "language_info": {
   "codemirror_mode": {
    "name": "ipython",
    "version": 3
   },
   "file_extension": ".py",
   "mimetype": "text/x-python",
   "name": "python",
   "nbconvert_exporter": "python",
   "pygments_lexer": "ipython3",
   "version": "3.11.2"
  }
 },
 "nbformat": 4,
 "nbformat_minor": 2
}
